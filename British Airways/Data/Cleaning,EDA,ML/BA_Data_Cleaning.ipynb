{
 "cells": [
  {
   "cell_type": "markdown",
   "metadata": {},
   "source": [
    "## Data Cleaning"
   ]
  },
  {
   "cell_type": "code",
   "execution_count": 1,
   "metadata": {},
   "outputs": [
    {
     "name": "stderr",
     "output_type": "stream",
     "text": [
      "C:\\Users\\bhush\\AppData\\Roaming\\Python\\Python37\\site-packages\\pandas\\compat\\_optional.py:138: UserWarning: Pandas requires version '2.7.0' or newer of 'numexpr' (version '2.6.9' currently installed).\n",
      "  warnings.warn(msg, UserWarning)\n"
     ]
    }
   ],
   "source": [
    "import pandas as pd\n",
    "import matplotlib.pyplot as plt\n",
    "import seaborn as sns\n",
    "import os\n",
    "import re"
   ]
  },
  {
   "cell_type": "code",
   "execution_count": 2,
   "metadata": {},
   "outputs": [],
   "source": [
    "#creating pandas dataframe from csv file\n",
    "cwd = os.getcwd()\n",
    "\n",
    "df = pd.read_csv(r\"C:\\Users\\bhush\\OneDrive\\Desktop\\BA_Data.csv\")"
   ]
  },
  {
   "cell_type": "code",
   "execution_count": 3,
   "metadata": {},
   "outputs": [
    {
     "data": {
      "text/html": [
       "<div>\n",
       "<style scoped>\n",
       "    .dataframe tbody tr th:only-of-type {\n",
       "        vertical-align: middle;\n",
       "    }\n",
       "\n",
       "    .dataframe tbody tr th {\n",
       "        vertical-align: top;\n",
       "    }\n",
       "\n",
       "    .dataframe thead th {\n",
       "        text-align: right;\n",
       "    }\n",
       "</style>\n",
       "<table border=\"1\" class=\"dataframe\">\n",
       "  <thead>\n",
       "    <tr style=\"text-align: right;\">\n",
       "      <th></th>\n",
       "      <th>Unnamed: 0</th>\n",
       "      <th>reviews</th>\n",
       "      <th>stars</th>\n",
       "      <th>date</th>\n",
       "      <th>country</th>\n",
       "    </tr>\n",
       "  </thead>\n",
       "  <tbody>\n",
       "    <tr>\n",
       "      <th>0</th>\n",
       "      <td>0</td>\n",
       "      <td>Not Verified | Top Ten REASONS to not use Brit...</td>\n",
       "      <td>\\n\\t\\t\\t\\t\\t\\t\\t\\t\\t\\t\\t\\t\\t5</td>\n",
       "      <td>23rd May 2023</td>\n",
       "      <td>United States</td>\n",
       "    </tr>\n",
       "    <tr>\n",
       "      <th>1</th>\n",
       "      <td>1</td>\n",
       "      <td>Not Verified |  Easy check in on the way to He...</td>\n",
       "      <td>1</td>\n",
       "      <td>23rd May 2023</td>\n",
       "      <td>Spain</td>\n",
       "    </tr>\n",
       "    <tr>\n",
       "      <th>2</th>\n",
       "      <td>2</td>\n",
       "      <td>✅ Trip Verified |  Online check in worked fine...</td>\n",
       "      <td>10</td>\n",
       "      <td>23rd May 2023</td>\n",
       "      <td>Chile</td>\n",
       "    </tr>\n",
       "    <tr>\n",
       "      <th>3</th>\n",
       "      <td>3</td>\n",
       "      <td>✅ Trip Verified |. The BA first lounge at Term...</td>\n",
       "      <td>10</td>\n",
       "      <td>22nd May 2023</td>\n",
       "      <td>United Kingdom</td>\n",
       "    </tr>\n",
       "    <tr>\n",
       "      <th>4</th>\n",
       "      <td>4</td>\n",
       "      <td>Not Verified | Paid a quick visit to Nice yest...</td>\n",
       "      <td>2</td>\n",
       "      <td>22nd May 2023</td>\n",
       "      <td>United Kingdom</td>\n",
       "    </tr>\n",
       "  </tbody>\n",
       "</table>\n",
       "</div>"
      ],
      "text/plain": [
       "   Unnamed: 0                                            reviews  \\\n",
       "0           0  Not Verified | Top Ten REASONS to not use Brit...   \n",
       "1           1  Not Verified |  Easy check in on the way to He...   \n",
       "2           2  ✅ Trip Verified |  Online check in worked fine...   \n",
       "3           3  ✅ Trip Verified |. The BA first lounge at Term...   \n",
       "4           4  Not Verified | Paid a quick visit to Nice yest...   \n",
       "\n",
       "                           stars           date         country  \n",
       "0  \\n\\t\\t\\t\\t\\t\\t\\t\\t\\t\\t\\t\\t\\t5  23rd May 2023   United States  \n",
       "1                              1  23rd May 2023           Spain  \n",
       "2                             10  23rd May 2023           Chile  \n",
       "3                             10  22nd May 2023  United Kingdom  \n",
       "4                              2  22nd May 2023  United Kingdom  "
      ]
     },
     "execution_count": 3,
     "metadata": {},
     "output_type": "execute_result"
    }
   ],
   "source": [
    "df.head()"
   ]
  },
  {
   "cell_type": "code",
   "execution_count": 4,
   "metadata": {},
   "outputs": [],
   "source": [
    "df['verified']=df.reviews.str.contains(\"✅ Trip Verified\")"
   ]
  },
  {
   "cell_type": "code",
   "execution_count": 5,
   "metadata": {},
   "outputs": [
    {
     "data": {
      "text/plain": [
       "0    False\n",
       "1    False\n",
       "2     True\n",
       "3     True\n",
       "4    False\n",
       "5     True\n",
       "6     True\n",
       "7     True\n",
       "8     True\n",
       "9    False\n",
       "Name: verified, dtype: bool"
      ]
     },
     "execution_count": 5,
     "metadata": {},
     "output_type": "execute_result"
    }
   ],
   "source": [
    "df['verified'].head(10)"
   ]
  },
  {
   "cell_type": "markdown",
   "metadata": {},
   "source": [
    "## Cleaning Reviews"
   ]
  },
  {
   "cell_type": "code",
   "execution_count": 6,
   "metadata": {},
   "outputs": [
    {
     "name": "stderr",
     "output_type": "stream",
     "text": [
      "C:\\ProgramData\\Anaconda3\\lib\\site-packages\\sklearn\\feature_extraction\\image.py:167: DeprecationWarning: `np.int` is a deprecated alias for the builtin `int`. To silence this warning, use `int` by itself. Doing this will not modify any behavior and is safe. When replacing `np.int`, you may wish to use e.g. `np.int64` or `np.int32` to specify the precision. If you wish to review your current use, check the release note link for additional information.\n",
      "Deprecated in NumPy 1.20; for more details and guidance: https://numpy.org/devdocs/release/1.20.0-notes.html#deprecations\n",
      "  dtype=np.int):\n",
      "C:\\ProgramData\\Anaconda3\\lib\\site-packages\\sklearn\\linear_model\\least_angle.py:30: DeprecationWarning: `np.float` is a deprecated alias for the builtin `float`. To silence this warning, use `float` by itself. Doing this will not modify any behavior and is safe. If you specifically wanted the numpy scalar type, use `np.float64` here.\n",
      "Deprecated in NumPy 1.20; for more details and guidance: https://numpy.org/devdocs/release/1.20.0-notes.html#deprecations\n",
      "  method='lar', copy_X=True, eps=np.finfo(np.float).eps,\n",
      "C:\\ProgramData\\Anaconda3\\lib\\site-packages\\sklearn\\linear_model\\least_angle.py:167: DeprecationWarning: `np.float` is a deprecated alias for the builtin `float`. To silence this warning, use `float` by itself. Doing this will not modify any behavior and is safe. If you specifically wanted the numpy scalar type, use `np.float64` here.\n",
      "Deprecated in NumPy 1.20; for more details and guidance: https://numpy.org/devdocs/release/1.20.0-notes.html#deprecations\n",
      "  method='lar', copy_X=True, eps=np.finfo(np.float).eps,\n",
      "C:\\ProgramData\\Anaconda3\\lib\\site-packages\\sklearn\\linear_model\\least_angle.py:284: DeprecationWarning: `np.float` is a deprecated alias for the builtin `float`. To silence this warning, use `float` by itself. Doing this will not modify any behavior and is safe. If you specifically wanted the numpy scalar type, use `np.float64` here.\n",
      "Deprecated in NumPy 1.20; for more details and guidance: https://numpy.org/devdocs/release/1.20.0-notes.html#deprecations\n",
      "  eps=np.finfo(np.float).eps, copy_Gram=True, verbose=0,\n",
      "C:\\ProgramData\\Anaconda3\\lib\\site-packages\\sklearn\\linear_model\\least_angle.py:862: DeprecationWarning: `np.float` is a deprecated alias for the builtin `float`. To silence this warning, use `float` by itself. Doing this will not modify any behavior and is safe. If you specifically wanted the numpy scalar type, use `np.float64` here.\n",
      "Deprecated in NumPy 1.20; for more details and guidance: https://numpy.org/devdocs/release/1.20.0-notes.html#deprecations\n",
      "  eps=np.finfo(np.float).eps, copy_X=True, fit_path=True,\n",
      "C:\\ProgramData\\Anaconda3\\lib\\site-packages\\sklearn\\linear_model\\least_angle.py:1101: DeprecationWarning: `np.float` is a deprecated alias for the builtin `float`. To silence this warning, use `float` by itself. Doing this will not modify any behavior and is safe. If you specifically wanted the numpy scalar type, use `np.float64` here.\n",
      "Deprecated in NumPy 1.20; for more details and guidance: https://numpy.org/devdocs/release/1.20.0-notes.html#deprecations\n",
      "  eps=np.finfo(np.float).eps, copy_X=True, fit_path=True,\n",
      "C:\\ProgramData\\Anaconda3\\lib\\site-packages\\sklearn\\linear_model\\least_angle.py:1127: DeprecationWarning: `np.float` is a deprecated alias for the builtin `float`. To silence this warning, use `float` by itself. Doing this will not modify any behavior and is safe. If you specifically wanted the numpy scalar type, use `np.float64` here.\n",
      "Deprecated in NumPy 1.20; for more details and guidance: https://numpy.org/devdocs/release/1.20.0-notes.html#deprecations\n",
      "  eps=np.finfo(np.float).eps, positive=False):\n",
      "C:\\ProgramData\\Anaconda3\\lib\\site-packages\\sklearn\\linear_model\\least_angle.py:1362: DeprecationWarning: `np.float` is a deprecated alias for the builtin `float`. To silence this warning, use `float` by itself. Doing this will not modify any behavior and is safe. If you specifically wanted the numpy scalar type, use `np.float64` here.\n",
      "Deprecated in NumPy 1.20; for more details and guidance: https://numpy.org/devdocs/release/1.20.0-notes.html#deprecations\n",
      "  max_n_alphas=1000, n_jobs=None, eps=np.finfo(np.float).eps,\n",
      "C:\\ProgramData\\Anaconda3\\lib\\site-packages\\sklearn\\linear_model\\least_angle.py:1602: DeprecationWarning: `np.float` is a deprecated alias for the builtin `float`. To silence this warning, use `float` by itself. Doing this will not modify any behavior and is safe. If you specifically wanted the numpy scalar type, use `np.float64` here.\n",
      "Deprecated in NumPy 1.20; for more details and guidance: https://numpy.org/devdocs/release/1.20.0-notes.html#deprecations\n",
      "  max_n_alphas=1000, n_jobs=None, eps=np.finfo(np.float).eps,\n",
      "C:\\ProgramData\\Anaconda3\\lib\\site-packages\\sklearn\\linear_model\\least_angle.py:1738: DeprecationWarning: `np.float` is a deprecated alias for the builtin `float`. To silence this warning, use `float` by itself. Doing this will not modify any behavior and is safe. If you specifically wanted the numpy scalar type, use `np.float64` here.\n",
      "Deprecated in NumPy 1.20; for more details and guidance: https://numpy.org/devdocs/release/1.20.0-notes.html#deprecations\n",
      "  eps=np.finfo(np.float).eps, copy_X=True, positive=False):\n"
     ]
    }
   ],
   "source": [
    "from nltk.stem import WordNetLemmatizer\n",
    "from nltk.corpus import stopwords\n",
    "lemma  = WordNetLemmatizer()\n",
    "\n",
    "reviews_data = df.reviews.str.strip(\"✅ Trip Verified\")\n",
    "\n",
    "# Create an empty list to collect cleaned data corpus\n",
    "\n",
    "corpus = []\n",
    "\n",
    "for rev in reviews_data:\n",
    "    rev = re.sub('[^a-zA-Z]',' ',rev)\n",
    "    rev = rev.lower()\n",
    "    rev = rev.split()\n",
    "    rev = [lemma.lemmatize(word) for word in rev if word not in set (stopwords.words(\"english\"))]\n",
    "    rev = \" \".join(rev)\n",
    "    corpus.append(rev)"
   ]
  },
  {
   "cell_type": "code",
   "execution_count": 7,
   "metadata": {},
   "outputs": [],
   "source": [
    "df['corpus'] = corpus"
   ]
  },
  {
   "cell_type": "code",
   "execution_count": 8,
   "metadata": {},
   "outputs": [
    {
     "data": {
      "text/plain": [
       "0    verified top ten reason use british airway awa...\n",
       "1    verified easy check way heathrow flight time i...\n",
       "2    online check worked fine quick security check ...\n",
       "3    ba first lounge terminal zoo pm dirty table us...\n",
       "4    verified paid quick visit nice yesterday heath...\n",
       "Name: corpus, dtype: object"
      ]
     },
     "execution_count": 8,
     "metadata": {},
     "output_type": "execute_result"
    }
   ],
   "source": [
    "df['corpus'].head()"
   ]
  },
  {
   "cell_type": "code",
   "execution_count": 9,
   "metadata": {},
   "outputs": [
    {
     "data": {
      "text/html": [
       "<div>\n",
       "<style scoped>\n",
       "    .dataframe tbody tr th:only-of-type {\n",
       "        vertical-align: middle;\n",
       "    }\n",
       "\n",
       "    .dataframe tbody tr th {\n",
       "        vertical-align: top;\n",
       "    }\n",
       "\n",
       "    .dataframe thead th {\n",
       "        text-align: right;\n",
       "    }\n",
       "</style>\n",
       "<table border=\"1\" class=\"dataframe\">\n",
       "  <thead>\n",
       "    <tr style=\"text-align: right;\">\n",
       "      <th></th>\n",
       "      <th>Unnamed: 0</th>\n",
       "      <th>reviews</th>\n",
       "      <th>stars</th>\n",
       "      <th>date</th>\n",
       "      <th>country</th>\n",
       "      <th>verified</th>\n",
       "      <th>corpus</th>\n",
       "    </tr>\n",
       "  </thead>\n",
       "  <tbody>\n",
       "    <tr>\n",
       "      <th>0</th>\n",
       "      <td>0</td>\n",
       "      <td>Not Verified | Top Ten REASONS to not use Brit...</td>\n",
       "      <td>\\n\\t\\t\\t\\t\\t\\t\\t\\t\\t\\t\\t\\t\\t5</td>\n",
       "      <td>23rd May 2023</td>\n",
       "      <td>United States</td>\n",
       "      <td>False</td>\n",
       "      <td>verified top ten reason use british airway awa...</td>\n",
       "    </tr>\n",
       "    <tr>\n",
       "      <th>1</th>\n",
       "      <td>1</td>\n",
       "      <td>Not Verified |  Easy check in on the way to He...</td>\n",
       "      <td>1</td>\n",
       "      <td>23rd May 2023</td>\n",
       "      <td>Spain</td>\n",
       "      <td>False</td>\n",
       "      <td>verified easy check way heathrow flight time i...</td>\n",
       "    </tr>\n",
       "    <tr>\n",
       "      <th>2</th>\n",
       "      <td>2</td>\n",
       "      <td>✅ Trip Verified |  Online check in worked fine...</td>\n",
       "      <td>10</td>\n",
       "      <td>23rd May 2023</td>\n",
       "      <td>Chile</td>\n",
       "      <td>True</td>\n",
       "      <td>online check worked fine quick security check ...</td>\n",
       "    </tr>\n",
       "    <tr>\n",
       "      <th>3</th>\n",
       "      <td>3</td>\n",
       "      <td>✅ Trip Verified |. The BA first lounge at Term...</td>\n",
       "      <td>10</td>\n",
       "      <td>22nd May 2023</td>\n",
       "      <td>United Kingdom</td>\n",
       "      <td>True</td>\n",
       "      <td>ba first lounge terminal zoo pm dirty table us...</td>\n",
       "    </tr>\n",
       "    <tr>\n",
       "      <th>4</th>\n",
       "      <td>4</td>\n",
       "      <td>Not Verified | Paid a quick visit to Nice yest...</td>\n",
       "      <td>2</td>\n",
       "      <td>22nd May 2023</td>\n",
       "      <td>United Kingdom</td>\n",
       "      <td>False</td>\n",
       "      <td>verified paid quick visit nice yesterday heath...</td>\n",
       "    </tr>\n",
       "  </tbody>\n",
       "</table>\n",
       "</div>"
      ],
      "text/plain": [
       "   Unnamed: 0                                            reviews  \\\n",
       "0           0  Not Verified | Top Ten REASONS to not use Brit...   \n",
       "1           1  Not Verified |  Easy check in on the way to He...   \n",
       "2           2  ✅ Trip Verified |  Online check in worked fine...   \n",
       "3           3  ✅ Trip Verified |. The BA first lounge at Term...   \n",
       "4           4  Not Verified | Paid a quick visit to Nice yest...   \n",
       "\n",
       "                           stars           date         country  verified  \\\n",
       "0  \\n\\t\\t\\t\\t\\t\\t\\t\\t\\t\\t\\t\\t\\t5  23rd May 2023   United States     False   \n",
       "1                              1  23rd May 2023           Spain     False   \n",
       "2                             10  23rd May 2023           Chile      True   \n",
       "3                             10  22nd May 2023  United Kingdom      True   \n",
       "4                              2  22nd May 2023  United Kingdom     False   \n",
       "\n",
       "                                              corpus  \n",
       "0  verified top ten reason use british airway awa...  \n",
       "1  verified easy check way heathrow flight time i...  \n",
       "2  online check worked fine quick security check ...  \n",
       "3  ba first lounge terminal zoo pm dirty table us...  \n",
       "4  verified paid quick visit nice yesterday heath...  "
      ]
     },
     "execution_count": 9,
     "metadata": {},
     "output_type": "execute_result"
    }
   ],
   "source": [
    "df.head()"
   ]
  },
  {
   "cell_type": "markdown",
   "metadata": {},
   "source": [
    "## Cleaning Date Format"
   ]
  },
  {
   "cell_type": "code",
   "execution_count": 10,
   "metadata": {},
   "outputs": [
    {
     "data": {
      "text/plain": [
       "Unnamed: 0     int64\n",
       "reviews       object\n",
       "stars         object\n",
       "date          object\n",
       "country       object\n",
       "verified        bool\n",
       "corpus        object\n",
       "dtype: object"
      ]
     },
     "execution_count": 10,
     "metadata": {},
     "output_type": "execute_result"
    }
   ],
   "source": [
    "df.dtypes"
   ]
  },
  {
   "cell_type": "code",
   "execution_count": 11,
   "metadata": {},
   "outputs": [],
   "source": [
    "df.drop('Unnamed: 0',axis=1,inplace=True)"
   ]
  },
  {
   "cell_type": "code",
   "execution_count": 12,
   "metadata": {},
   "outputs": [
    {
     "data": {
      "text/html": [
       "<div>\n",
       "<style scoped>\n",
       "    .dataframe tbody tr th:only-of-type {\n",
       "        vertical-align: middle;\n",
       "    }\n",
       "\n",
       "    .dataframe tbody tr th {\n",
       "        vertical-align: top;\n",
       "    }\n",
       "\n",
       "    .dataframe thead th {\n",
       "        text-align: right;\n",
       "    }\n",
       "</style>\n",
       "<table border=\"1\" class=\"dataframe\">\n",
       "  <thead>\n",
       "    <tr style=\"text-align: right;\">\n",
       "      <th></th>\n",
       "      <th>reviews</th>\n",
       "      <th>stars</th>\n",
       "      <th>date</th>\n",
       "      <th>country</th>\n",
       "      <th>verified</th>\n",
       "      <th>corpus</th>\n",
       "    </tr>\n",
       "  </thead>\n",
       "  <tbody>\n",
       "    <tr>\n",
       "      <th>0</th>\n",
       "      <td>Not Verified | Top Ten REASONS to not use Brit...</td>\n",
       "      <td>\\n\\t\\t\\t\\t\\t\\t\\t\\t\\t\\t\\t\\t\\t5</td>\n",
       "      <td>23rd May 2023</td>\n",
       "      <td>United States</td>\n",
       "      <td>False</td>\n",
       "      <td>verified top ten reason use british airway awa...</td>\n",
       "    </tr>\n",
       "    <tr>\n",
       "      <th>1</th>\n",
       "      <td>Not Verified |  Easy check in on the way to He...</td>\n",
       "      <td>1</td>\n",
       "      <td>23rd May 2023</td>\n",
       "      <td>Spain</td>\n",
       "      <td>False</td>\n",
       "      <td>verified easy check way heathrow flight time i...</td>\n",
       "    </tr>\n",
       "    <tr>\n",
       "      <th>2</th>\n",
       "      <td>✅ Trip Verified |  Online check in worked fine...</td>\n",
       "      <td>10</td>\n",
       "      <td>23rd May 2023</td>\n",
       "      <td>Chile</td>\n",
       "      <td>True</td>\n",
       "      <td>online check worked fine quick security check ...</td>\n",
       "    </tr>\n",
       "    <tr>\n",
       "      <th>3</th>\n",
       "      <td>✅ Trip Verified |. The BA first lounge at Term...</td>\n",
       "      <td>10</td>\n",
       "      <td>22nd May 2023</td>\n",
       "      <td>United Kingdom</td>\n",
       "      <td>True</td>\n",
       "      <td>ba first lounge terminal zoo pm dirty table us...</td>\n",
       "    </tr>\n",
       "    <tr>\n",
       "      <th>4</th>\n",
       "      <td>Not Verified | Paid a quick visit to Nice yest...</td>\n",
       "      <td>2</td>\n",
       "      <td>22nd May 2023</td>\n",
       "      <td>United Kingdom</td>\n",
       "      <td>False</td>\n",
       "      <td>verified paid quick visit nice yesterday heath...</td>\n",
       "    </tr>\n",
       "  </tbody>\n",
       "</table>\n",
       "</div>"
      ],
      "text/plain": [
       "                                             reviews  \\\n",
       "0  Not Verified | Top Ten REASONS to not use Brit...   \n",
       "1  Not Verified |  Easy check in on the way to He...   \n",
       "2  ✅ Trip Verified |  Online check in worked fine...   \n",
       "3  ✅ Trip Verified |. The BA first lounge at Term...   \n",
       "4  Not Verified | Paid a quick visit to Nice yest...   \n",
       "\n",
       "                           stars           date         country  verified  \\\n",
       "0  \\n\\t\\t\\t\\t\\t\\t\\t\\t\\t\\t\\t\\t\\t5  23rd May 2023   United States     False   \n",
       "1                              1  23rd May 2023           Spain     False   \n",
       "2                             10  23rd May 2023           Chile      True   \n",
       "3                             10  22nd May 2023  United Kingdom      True   \n",
       "4                              2  22nd May 2023  United Kingdom     False   \n",
       "\n",
       "                                              corpus  \n",
       "0  verified top ten reason use british airway awa...  \n",
       "1  verified easy check way heathrow flight time i...  \n",
       "2  online check worked fine quick security check ...  \n",
       "3  ba first lounge terminal zoo pm dirty table us...  \n",
       "4  verified paid quick visit nice yesterday heath...  "
      ]
     },
     "execution_count": 12,
     "metadata": {},
     "output_type": "execute_result"
    }
   ],
   "source": [
    "df.head()"
   ]
  },
  {
   "cell_type": "markdown",
   "metadata": {},
   "source": [
    "## Cleaning Date Format"
   ]
  },
  {
   "cell_type": "code",
   "execution_count": 13,
   "metadata": {},
   "outputs": [],
   "source": [
    "df['date'] = pd.to_datetime(df['date'])"
   ]
  },
  {
   "cell_type": "code",
   "execution_count": 14,
   "metadata": {},
   "outputs": [
    {
     "data": {
      "text/plain": [
       "0   2023-05-23\n",
       "1   2023-05-23\n",
       "2   2023-05-23\n",
       "3   2023-05-22\n",
       "4   2023-05-22\n",
       "Name: date, dtype: datetime64[ns]"
      ]
     },
     "execution_count": 14,
     "metadata": {},
     "output_type": "execute_result"
    }
   ],
   "source": [
    "df['date'].head()"
   ]
  },
  {
   "cell_type": "markdown",
   "metadata": {},
   "source": [
    "## Cleaning Ratings "
   ]
  },
  {
   "cell_type": "code",
   "execution_count": 15,
   "metadata": {},
   "outputs": [
    {
     "data": {
      "text/plain": [
       "array(['\\n\\t\\t\\t\\t\\t\\t\\t\\t\\t\\t\\t\\t\\t5', '1', '10', '2', '4', '3', '5',\n",
       "       '9', '7', '8', '6', 'None'], dtype=object)"
      ]
     },
     "execution_count": 15,
     "metadata": {},
     "output_type": "execute_result"
    }
   ],
   "source": [
    "df['stars'].unique()"
   ]
  },
  {
   "cell_type": "code",
   "execution_count": 16,
   "metadata": {},
   "outputs": [],
   "source": [
    "df['stars'] = df['stars'].str.strip(\"\\n\\t\\t\\t\\t\\t\\t\\t\\t\\t\\t\\t\\t\\t5\")"
   ]
  },
  {
   "cell_type": "code",
   "execution_count": 17,
   "metadata": {},
   "outputs": [
    {
     "data": {
      "text/plain": [
       "0      \n",
       "1     1\n",
       "2    10\n",
       "3    10\n",
       "4     2\n",
       "Name: stars, dtype: object"
      ]
     },
     "execution_count": 17,
     "metadata": {},
     "output_type": "execute_result"
    }
   ],
   "source": [
    "df['stars'].head()"
   ]
  },
  {
   "cell_type": "code",
   "execution_count": 18,
   "metadata": {},
   "outputs": [
    {
     "data": {
      "text/plain": [
       "1       786\n",
       "2       396\n",
       "3       389\n",
       "8       349\n",
       "10      308\n",
       "9       299\n",
       "7       298\n",
       "        256\n",
       "4       235\n",
       "6       179\n",
       "None      5\n",
       "Name: stars, dtype: int64"
      ]
     },
     "execution_count": 18,
     "metadata": {},
     "output_type": "execute_result"
    }
   ],
   "source": [
    "df['stars'].value_counts()"
   ]
  },
  {
   "cell_type": "code",
   "execution_count": 19,
   "metadata": {},
   "outputs": [
    {
     "data": {
      "text/plain": [
       "array(['', '1', '10', '2', '4', '3', '9', '7', '8', '6', 'None'],\n",
       "      dtype=object)"
      ]
     },
     "execution_count": 19,
     "metadata": {},
     "output_type": "execute_result"
    }
   ],
   "source": [
    "df['stars'].unique()"
   ]
  },
  {
   "cell_type": "code",
   "execution_count": 20,
   "metadata": {},
   "outputs": [],
   "source": [
    "# dropping the rows with stars value as \"None\" as there are only 5 rows as such\n",
    "df.drop(df[df.stars == \"None\"].index,axis = 0, inplace=True)"
   ]
  },
  {
   "cell_type": "code",
   "execution_count": 21,
   "metadata": {},
   "outputs": [
    {
     "data": {
      "text/plain": [
       "reviews     0\n",
       "stars       0\n",
       "date        0\n",
       "country     2\n",
       "verified    0\n",
       "corpus      0\n",
       "dtype: int64"
      ]
     },
     "execution_count": 21,
     "metadata": {},
     "output_type": "execute_result"
    }
   ],
   "source": [
    "df.isnull().sum()"
   ]
  },
  {
   "cell_type": "code",
   "execution_count": 22,
   "metadata": {},
   "outputs": [],
   "source": [
    "#Dropping those 2 column having country values as NaN\n",
    "df.dropna(axis=0,inplace=True)"
   ]
  },
  {
   "cell_type": "code",
   "execution_count": 23,
   "metadata": {},
   "outputs": [
    {
     "data": {
      "text/plain": [
       "reviews     0\n",
       "stars       0\n",
       "date        0\n",
       "country     0\n",
       "verified    0\n",
       "corpus      0\n",
       "dtype: int64"
      ]
     },
     "execution_count": 23,
     "metadata": {},
     "output_type": "execute_result"
    }
   ],
   "source": [
    "df.isnull().sum()"
   ]
  },
  {
   "cell_type": "code",
   "execution_count": 24,
   "metadata": {},
   "outputs": [
    {
     "data": {
      "text/html": [
       "<div>\n",
       "<style scoped>\n",
       "    .dataframe tbody tr th:only-of-type {\n",
       "        vertical-align: middle;\n",
       "    }\n",
       "\n",
       "    .dataframe tbody tr th {\n",
       "        vertical-align: top;\n",
       "    }\n",
       "\n",
       "    .dataframe thead th {\n",
       "        text-align: right;\n",
       "    }\n",
       "</style>\n",
       "<table border=\"1\" class=\"dataframe\">\n",
       "  <thead>\n",
       "    <tr style=\"text-align: right;\">\n",
       "      <th></th>\n",
       "      <th>reviews</th>\n",
       "      <th>stars</th>\n",
       "      <th>date</th>\n",
       "      <th>country</th>\n",
       "      <th>verified</th>\n",
       "      <th>corpus</th>\n",
       "    </tr>\n",
       "  </thead>\n",
       "  <tbody>\n",
       "    <tr>\n",
       "      <th>0</th>\n",
       "      <td>Not Verified | Top Ten REASONS to not use Brit...</td>\n",
       "      <td></td>\n",
       "      <td>2023-05-23</td>\n",
       "      <td>United States</td>\n",
       "      <td>False</td>\n",
       "      <td>verified top ten reason use british airway awa...</td>\n",
       "    </tr>\n",
       "    <tr>\n",
       "      <th>1</th>\n",
       "      <td>Not Verified |  Easy check in on the way to He...</td>\n",
       "      <td>1</td>\n",
       "      <td>2023-05-23</td>\n",
       "      <td>Spain</td>\n",
       "      <td>False</td>\n",
       "      <td>verified easy check way heathrow flight time i...</td>\n",
       "    </tr>\n",
       "    <tr>\n",
       "      <th>2</th>\n",
       "      <td>✅ Trip Verified |  Online check in worked fine...</td>\n",
       "      <td>10</td>\n",
       "      <td>2023-05-23</td>\n",
       "      <td>Chile</td>\n",
       "      <td>True</td>\n",
       "      <td>online check worked fine quick security check ...</td>\n",
       "    </tr>\n",
       "    <tr>\n",
       "      <th>3</th>\n",
       "      <td>✅ Trip Verified |. The BA first lounge at Term...</td>\n",
       "      <td>10</td>\n",
       "      <td>2023-05-22</td>\n",
       "      <td>United Kingdom</td>\n",
       "      <td>True</td>\n",
       "      <td>ba first lounge terminal zoo pm dirty table us...</td>\n",
       "    </tr>\n",
       "    <tr>\n",
       "      <th>4</th>\n",
       "      <td>Not Verified | Paid a quick visit to Nice yest...</td>\n",
       "      <td>2</td>\n",
       "      <td>2023-05-22</td>\n",
       "      <td>United Kingdom</td>\n",
       "      <td>False</td>\n",
       "      <td>verified paid quick visit nice yesterday heath...</td>\n",
       "    </tr>\n",
       "    <tr>\n",
       "      <th>...</th>\n",
       "      <td>...</td>\n",
       "      <td>...</td>\n",
       "      <td>...</td>\n",
       "      <td>...</td>\n",
       "      <td>...</td>\n",
       "      <td>...</td>\n",
       "    </tr>\n",
       "    <tr>\n",
       "      <th>3488</th>\n",
       "      <td>BA Heathrow to Madrid Club Euro. Disappointing...</td>\n",
       "      <td></td>\n",
       "      <td>2014-05-26</td>\n",
       "      <td>United Kingdom</td>\n",
       "      <td>False</td>\n",
       "      <td>ba heathrow madrid club euro disappointing ser...</td>\n",
       "    </tr>\n",
       "    <tr>\n",
       "      <th>3489</th>\n",
       "      <td>Club Europe London Heathrow T3 to Lisbon. T3 l...</td>\n",
       "      <td>10</td>\n",
       "      <td>2014-05-26</td>\n",
       "      <td>United Kingdom</td>\n",
       "      <td>False</td>\n",
       "      <td>club europe london heathrow lisbon lounge good...</td>\n",
       "    </tr>\n",
       "    <tr>\n",
       "      <th>3490</th>\n",
       "      <td>TXL-LHR-SFO. TXL-LHR on an A321 it was an unev...</td>\n",
       "      <td>10</td>\n",
       "      <td>2014-05-25</td>\n",
       "      <td>India</td>\n",
       "      <td>False</td>\n",
       "      <td>xl lhr sfo txl lhr uneventful flight drink ser...</td>\n",
       "    </tr>\n",
       "    <tr>\n",
       "      <th>3491</th>\n",
       "      <td>San Diego return business class (the seat was ...</td>\n",
       "      <td></td>\n",
       "      <td>2014-05-24</td>\n",
       "      <td>United Kingdom</td>\n",
       "      <td>False</td>\n",
       "      <td>san diego return business class seat comfortab...</td>\n",
       "    </tr>\n",
       "    <tr>\n",
       "      <th>3492</th>\n",
       "      <td>Flew British Airways from Sydney to Venice on ...</td>\n",
       "      <td>6</td>\n",
       "      <td>2014-05-20</td>\n",
       "      <td>Australia</td>\n",
       "      <td>False</td>\n",
       "      <td>flew british airway sydney venice nd april ret...</td>\n",
       "    </tr>\n",
       "  </tbody>\n",
       "</table>\n",
       "<p>3493 rows × 6 columns</p>\n",
       "</div>"
      ],
      "text/plain": [
       "                                                reviews stars       date  \\\n",
       "0     Not Verified | Top Ten REASONS to not use Brit...       2023-05-23   \n",
       "1     Not Verified |  Easy check in on the way to He...     1 2023-05-23   \n",
       "2     ✅ Trip Verified |  Online check in worked fine...    10 2023-05-23   \n",
       "3     ✅ Trip Verified |. The BA first lounge at Term...    10 2023-05-22   \n",
       "4     Not Verified | Paid a quick visit to Nice yest...     2 2023-05-22   \n",
       "...                                                 ...   ...        ...   \n",
       "3488  BA Heathrow to Madrid Club Euro. Disappointing...       2014-05-26   \n",
       "3489  Club Europe London Heathrow T3 to Lisbon. T3 l...    10 2014-05-26   \n",
       "3490  TXL-LHR-SFO. TXL-LHR on an A321 it was an unev...    10 2014-05-25   \n",
       "3491  San Diego return business class (the seat was ...       2014-05-24   \n",
       "3492  Flew British Airways from Sydney to Venice on ...     6 2014-05-20   \n",
       "\n",
       "             country  verified  \\\n",
       "0      United States     False   \n",
       "1              Spain     False   \n",
       "2              Chile      True   \n",
       "3     United Kingdom      True   \n",
       "4     United Kingdom     False   \n",
       "...              ...       ...   \n",
       "3488  United Kingdom     False   \n",
       "3489  United Kingdom     False   \n",
       "3490           India     False   \n",
       "3491  United Kingdom     False   \n",
       "3492       Australia     False   \n",
       "\n",
       "                                                 corpus  \n",
       "0     verified top ten reason use british airway awa...  \n",
       "1     verified easy check way heathrow flight time i...  \n",
       "2     online check worked fine quick security check ...  \n",
       "3     ba first lounge terminal zoo pm dirty table us...  \n",
       "4     verified paid quick visit nice yesterday heath...  \n",
       "...                                                 ...  \n",
       "3488  ba heathrow madrid club euro disappointing ser...  \n",
       "3489  club europe london heathrow lisbon lounge good...  \n",
       "3490  xl lhr sfo txl lhr uneventful flight drink ser...  \n",
       "3491  san diego return business class seat comfortab...  \n",
       "3492  flew british airway sydney venice nd april ret...  \n",
       "\n",
       "[3493 rows x 6 columns]"
      ]
     },
     "execution_count": 24,
     "metadata": {},
     "output_type": "execute_result"
    }
   ],
   "source": [
    "df.reset_index(drop=True)"
   ]
  },
  {
   "cell_type": "code",
   "execution_count": 25,
   "metadata": {},
   "outputs": [],
   "source": [
    "## Our Dataset is really large so we can remove those rows whose stars are not given\n",
    "df.drop(df[df['stars']==''].index,axis=0,inplace=True)"
   ]
  },
  {
   "cell_type": "code",
   "execution_count": 26,
   "metadata": {},
   "outputs": [
    {
     "data": {
      "text/html": [
       "<div>\n",
       "<style scoped>\n",
       "    .dataframe tbody tr th:only-of-type {\n",
       "        vertical-align: middle;\n",
       "    }\n",
       "\n",
       "    .dataframe tbody tr th {\n",
       "        vertical-align: top;\n",
       "    }\n",
       "\n",
       "    .dataframe thead th {\n",
       "        text-align: right;\n",
       "    }\n",
       "</style>\n",
       "<table border=\"1\" class=\"dataframe\">\n",
       "  <thead>\n",
       "    <tr style=\"text-align: right;\">\n",
       "      <th></th>\n",
       "      <th>reviews</th>\n",
       "      <th>stars</th>\n",
       "      <th>date</th>\n",
       "      <th>country</th>\n",
       "      <th>verified</th>\n",
       "      <th>corpus</th>\n",
       "    </tr>\n",
       "  </thead>\n",
       "  <tbody>\n",
       "    <tr>\n",
       "      <th>1</th>\n",
       "      <td>Not Verified |  Easy check in on the way to He...</td>\n",
       "      <td>1</td>\n",
       "      <td>2023-05-23</td>\n",
       "      <td>Spain</td>\n",
       "      <td>False</td>\n",
       "      <td>verified easy check way heathrow flight time i...</td>\n",
       "    </tr>\n",
       "    <tr>\n",
       "      <th>2</th>\n",
       "      <td>✅ Trip Verified |  Online check in worked fine...</td>\n",
       "      <td>10</td>\n",
       "      <td>2023-05-23</td>\n",
       "      <td>Chile</td>\n",
       "      <td>True</td>\n",
       "      <td>online check worked fine quick security check ...</td>\n",
       "    </tr>\n",
       "    <tr>\n",
       "      <th>3</th>\n",
       "      <td>✅ Trip Verified |. The BA first lounge at Term...</td>\n",
       "      <td>10</td>\n",
       "      <td>2023-05-22</td>\n",
       "      <td>United Kingdom</td>\n",
       "      <td>True</td>\n",
       "      <td>ba first lounge terminal zoo pm dirty table us...</td>\n",
       "    </tr>\n",
       "    <tr>\n",
       "      <th>4</th>\n",
       "      <td>Not Verified | Paid a quick visit to Nice yest...</td>\n",
       "      <td>2</td>\n",
       "      <td>2023-05-22</td>\n",
       "      <td>United Kingdom</td>\n",
       "      <td>False</td>\n",
       "      <td>verified paid quick visit nice yesterday heath...</td>\n",
       "    </tr>\n",
       "    <tr>\n",
       "      <th>5</th>\n",
       "      <td>✅ Trip Verified |  Words fail to describe this...</td>\n",
       "      <td>4</td>\n",
       "      <td>2023-05-19</td>\n",
       "      <td>United States</td>\n",
       "      <td>True</td>\n",
       "      <td>word fail describe last awful flight baby acro...</td>\n",
       "    </tr>\n",
       "    <tr>\n",
       "      <th>...</th>\n",
       "      <td>...</td>\n",
       "      <td>...</td>\n",
       "      <td>...</td>\n",
       "      <td>...</td>\n",
       "      <td>...</td>\n",
       "      <td>...</td>\n",
       "    </tr>\n",
       "    <tr>\n",
       "      <th>3493</th>\n",
       "      <td>Heathrow - Johannesburg A380. My first flight ...</td>\n",
       "      <td>2</td>\n",
       "      <td>2014-05-27</td>\n",
       "      <td>Bulgaria</td>\n",
       "      <td>False</td>\n",
       "      <td>heathrow johannesburg first flight half hour d...</td>\n",
       "    </tr>\n",
       "    <tr>\n",
       "      <th>3494</th>\n",
       "      <td>Heathrow - Johannesburg. Concorde lounge comfo...</td>\n",
       "      <td>1</td>\n",
       "      <td>2014-05-26</td>\n",
       "      <td>United Kingdom</td>\n",
       "      <td>False</td>\n",
       "      <td>heathrow johannesburg concorde lounge comforta...</td>\n",
       "    </tr>\n",
       "    <tr>\n",
       "      <th>3496</th>\n",
       "      <td>Club Europe London Heathrow T3 to Lisbon. T3 l...</td>\n",
       "      <td>10</td>\n",
       "      <td>2014-05-26</td>\n",
       "      <td>United Kingdom</td>\n",
       "      <td>False</td>\n",
       "      <td>club europe london heathrow lisbon lounge good...</td>\n",
       "    </tr>\n",
       "    <tr>\n",
       "      <th>3497</th>\n",
       "      <td>TXL-LHR-SFO. TXL-LHR on an A321 it was an unev...</td>\n",
       "      <td>10</td>\n",
       "      <td>2014-05-25</td>\n",
       "      <td>India</td>\n",
       "      <td>False</td>\n",
       "      <td>xl lhr sfo txl lhr uneventful flight drink ser...</td>\n",
       "    </tr>\n",
       "    <tr>\n",
       "      <th>3499</th>\n",
       "      <td>Flew British Airways from Sydney to Venice on ...</td>\n",
       "      <td>6</td>\n",
       "      <td>2014-05-20</td>\n",
       "      <td>Australia</td>\n",
       "      <td>False</td>\n",
       "      <td>flew british airway sydney venice nd april ret...</td>\n",
       "    </tr>\n",
       "  </tbody>\n",
       "</table>\n",
       "<p>3237 rows × 6 columns</p>\n",
       "</div>"
      ],
      "text/plain": [
       "                                                reviews stars       date  \\\n",
       "1     Not Verified |  Easy check in on the way to He...     1 2023-05-23   \n",
       "2     ✅ Trip Verified |  Online check in worked fine...    10 2023-05-23   \n",
       "3     ✅ Trip Verified |. The BA first lounge at Term...    10 2023-05-22   \n",
       "4     Not Verified | Paid a quick visit to Nice yest...     2 2023-05-22   \n",
       "5     ✅ Trip Verified |  Words fail to describe this...     4 2023-05-19   \n",
       "...                                                 ...   ...        ...   \n",
       "3493  Heathrow - Johannesburg A380. My first flight ...     2 2014-05-27   \n",
       "3494  Heathrow - Johannesburg. Concorde lounge comfo...     1 2014-05-26   \n",
       "3496  Club Europe London Heathrow T3 to Lisbon. T3 l...    10 2014-05-26   \n",
       "3497  TXL-LHR-SFO. TXL-LHR on an A321 it was an unev...    10 2014-05-25   \n",
       "3499  Flew British Airways from Sydney to Venice on ...     6 2014-05-20   \n",
       "\n",
       "             country  verified  \\\n",
       "1              Spain     False   \n",
       "2              Chile      True   \n",
       "3     United Kingdom      True   \n",
       "4     United Kingdom     False   \n",
       "5      United States      True   \n",
       "...              ...       ...   \n",
       "3493        Bulgaria     False   \n",
       "3494  United Kingdom     False   \n",
       "3496  United Kingdom     False   \n",
       "3497           India     False   \n",
       "3499       Australia     False   \n",
       "\n",
       "                                                 corpus  \n",
       "1     verified easy check way heathrow flight time i...  \n",
       "2     online check worked fine quick security check ...  \n",
       "3     ba first lounge terminal zoo pm dirty table us...  \n",
       "4     verified paid quick visit nice yesterday heath...  \n",
       "5     word fail describe last awful flight baby acro...  \n",
       "...                                                 ...  \n",
       "3493  heathrow johannesburg first flight half hour d...  \n",
       "3494  heathrow johannesburg concorde lounge comforta...  \n",
       "3496  club europe london heathrow lisbon lounge good...  \n",
       "3497  xl lhr sfo txl lhr uneventful flight drink ser...  \n",
       "3499  flew british airway sydney venice nd april ret...  \n",
       "\n",
       "[3237 rows x 6 columns]"
      ]
     },
     "execution_count": 26,
     "metadata": {},
     "output_type": "execute_result"
    }
   ],
   "source": [
    "df"
   ]
  },
  {
   "cell_type": "markdown",
   "metadata": {},
   "source": [
    "## Extracting cleaned data to new csv file"
   ]
  },
  {
   "cell_type": "code",
   "execution_count": 27,
   "metadata": {},
   "outputs": [],
   "source": [
    "df.to_csv(r\"C:\\Users\\bhush\\OneDrive\\Desktop\\Cleaned_Data.csv\")"
   ]
  },
  {
   "cell_type": "code",
   "execution_count": null,
   "metadata": {},
   "outputs": [],
   "source": []
  }
 ],
 "metadata": {
  "kernelspec": {
   "display_name": "Python 3",
   "language": "python",
   "name": "python3"
  },
  "language_info": {
   "codemirror_mode": {
    "name": "ipython",
    "version": 3
   },
   "file_extension": ".py",
   "mimetype": "text/x-python",
   "name": "python",
   "nbconvert_exporter": "python",
   "pygments_lexer": "ipython3",
   "version": "3.7.3"
  }
 },
 "nbformat": 4,
 "nbformat_minor": 2
}
